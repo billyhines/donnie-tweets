{
 "cells": [
  {
   "cell_type": "code",
   "execution_count": 1,
   "metadata": {
    "collapsed": true
   },
   "outputs": [],
   "source": [
    "import pandas as pd\n",
    "import numpy as np\n",
    "import urllib2\n",
    "import json, re\n",
    "from scipy import stats\n",
    "from scipy.stats import skewnorm"
   ]
  },
  {
   "cell_type": "markdown",
   "metadata": {},
   "source": [
    "## Import and Clean Tweets"
   ]
  },
  {
   "cell_type": "markdown",
   "metadata": {},
   "source": [
    "The first thing we'll do is pull in the archive of tweets. We'll clean up the dates and times to make it easier to group up the tweets and try to get a feel for the typical behavior"
   ]
  },
  {
   "cell_type": "code",
   "execution_count": 2,
   "metadata": {
    "collapsed": true
   },
   "outputs": [],
   "source": [
    "tweets = pd.read_csv('trumpTwitterArchive.csv')"
   ]
  },
  {
   "cell_type": "code",
   "execution_count": 3,
   "metadata": {
    "collapsed": false
   },
   "outputs": [
    {
     "data": {
      "text/html": [
       "<div>\n",
       "<style scoped>\n",
       "    .dataframe tbody tr th:only-of-type {\n",
       "        vertical-align: middle;\n",
       "    }\n",
       "\n",
       "    .dataframe tbody tr th {\n",
       "        vertical-align: top;\n",
       "    }\n",
       "\n",
       "    .dataframe thead th {\n",
       "        text-align: right;\n",
       "    }\n",
       "</style>\n",
       "<table border=\"1\" class=\"dataframe\">\n",
       "  <thead>\n",
       "    <tr style=\"text-align: right;\">\n",
       "      <th></th>\n",
       "      <th>source</th>\n",
       "      <th>text</th>\n",
       "      <th>created_at</th>\n",
       "      <th>retweet_count</th>\n",
       "      <th>favorite_count</th>\n",
       "      <th>is_retweet</th>\n",
       "      <th>id_str</th>\n",
       "    </tr>\n",
       "  </thead>\n",
       "  <tbody>\n",
       "    <tr>\n",
       "      <th>0</th>\n",
       "      <td>Twitter for iPhone</td>\n",
       "      <td>Thank you San Diego County for defending the r...</td>\n",
       "      <td>04-19-2018 15:23:22</td>\n",
       "      <td>111</td>\n",
       "      <td>311</td>\n",
       "      <td>False</td>\n",
       "      <td>986988633822412800</td>\n",
       "    </tr>\n",
       "    <tr>\n",
       "      <th>1</th>\n",
       "      <td>Twitter for iPhone</td>\n",
       "      <td>Great meeting with Prime Minister Abe of Japan...</td>\n",
       "      <td>04-19-2018 14:45:14</td>\n",
       "      <td>4214</td>\n",
       "      <td>18427</td>\n",
       "      <td>False</td>\n",
       "      <td>986979039670931458</td>\n",
       "    </tr>\n",
       "    <tr>\n",
       "      <th>2</th>\n",
       "      <td>Twitter for iPhone</td>\n",
       "      <td>It was my great honor to host my friend @JPN_P...</td>\n",
       "      <td>04-19-2018 02:58:21</td>\n",
       "      <td>11092</td>\n",
       "      <td>46465</td>\n",
       "      <td>False</td>\n",
       "      <td>986801143014621185</td>\n",
       "    </tr>\n",
       "    <tr>\n",
       "      <th>3</th>\n",
       "      <td>Twitter for iPhone</td>\n",
       "      <td>RT @StateDept: .@POTUS Trump thanks Prime Mini...</td>\n",
       "      <td>04-19-2018 02:12:13</td>\n",
       "      <td>5409</td>\n",
       "      <td>0</td>\n",
       "      <td>True</td>\n",
       "      <td>986789533172760576</td>\n",
       "    </tr>\n",
       "    <tr>\n",
       "      <th>4</th>\n",
       "      <td>Twitter for iPhone</td>\n",
       "      <td>Great working luncheon with U.S. and Japanese ...</td>\n",
       "      <td>04-18-2018 21:32:53</td>\n",
       "      <td>10662</td>\n",
       "      <td>52479</td>\n",
       "      <td>False</td>\n",
       "      <td>986719240240746497</td>\n",
       "    </tr>\n",
       "  </tbody>\n",
       "</table>\n",
       "</div>"
      ],
      "text/plain": [
       "               source                                               text  \\\n",
       "0  Twitter for iPhone  Thank you San Diego County for defending the r...   \n",
       "1  Twitter for iPhone  Great meeting with Prime Minister Abe of Japan...   \n",
       "2  Twitter for iPhone  It was my great honor to host my friend @JPN_P...   \n",
       "3  Twitter for iPhone  RT @StateDept: .@POTUS Trump thanks Prime Mini...   \n",
       "4  Twitter for iPhone  Great working luncheon with U.S. and Japanese ...   \n",
       "\n",
       "            created_at  retweet_count  favorite_count  is_retweet  \\\n",
       "0  04-19-2018 15:23:22            111             311       False   \n",
       "1  04-19-2018 14:45:14           4214           18427       False   \n",
       "2  04-19-2018 02:58:21          11092           46465       False   \n",
       "3  04-19-2018 02:12:13           5409               0        True   \n",
       "4  04-18-2018 21:32:53          10662           52479       False   \n",
       "\n",
       "               id_str  \n",
       "0  986988633822412800  \n",
       "1  986979039670931458  \n",
       "2  986801143014621185  \n",
       "3  986789533172760576  \n",
       "4  986719240240746497  "
      ]
     },
     "execution_count": 3,
     "metadata": {},
     "output_type": "execute_result"
    }
   ],
   "source": [
    "tweets.head()"
   ]
  },
  {
   "cell_type": "code",
   "execution_count": 4,
   "metadata": {
    "collapsed": true
   },
   "outputs": [],
   "source": [
    "tweets['created_at'] = pd.to_datetime(tweets['created_at'])"
   ]
  },
  {
   "cell_type": "code",
   "execution_count": 5,
   "metadata": {
    "collapsed": true
   },
   "outputs": [],
   "source": [
    "tweets['created_at'] = tweets['created_at'].dt.tz_localize('GMT').dt.tz_convert('US/Eastern')"
   ]
  },
  {
   "cell_type": "markdown",
   "metadata": {},
   "source": [
    "Because the PredictIt tweet market for the @realDonaldTrump account begins and ends on Wednesdays at noon, we'll create and initial start time that is the first Wednesday at noon after President Trump's inauguration. We'll also set an end time which will be the last completed week of tweets."
   ]
  },
  {
   "cell_type": "code",
   "execution_count": 6,
   "metadata": {
    "collapsed": true
   },
   "outputs": [],
   "source": [
    "startDay = pd.to_datetime(\"2017-01-25 16:00:00\", utc=1).tz_convert('US/Eastern')\n",
    "\n",
    "now = pd.to_datetime(pd.datetime.now() + pd.Timedelta('4h'), utc = 1).tz_convert('US/Eastern')\n",
    "\n",
    "endDay = startDay + pd.Timedelta(np.floor(((now - startDay) / np.timedelta64(1, 'D'))/7)*7, unit = 'd')"
   ]
  },
  {
   "cell_type": "code",
   "execution_count": 7,
   "metadata": {
    "collapsed": true
   },
   "outputs": [],
   "source": [
    "tweets['fromStart'] = tweets['created_at'] - startDay"
   ]
  },
  {
   "cell_type": "code",
   "execution_count": 8,
   "metadata": {
    "collapsed": true
   },
   "outputs": [],
   "source": [
    "tweets = tweets.loc[tweets['created_at'] > startDay]"
   ]
  },
  {
   "cell_type": "code",
   "execution_count": 9,
   "metadata": {
    "collapsed": true
   },
   "outputs": [],
   "source": [
    "tweets['daysFromStart'] = (tweets['fromStart'] / np.timedelta64(1, 'D')).apply(np.floor)\n",
    "tweets['hoursFromStart'] = (tweets['fromStart'] / np.timedelta64(1, 'h')).apply(np.floor)"
   ]
  },
  {
   "cell_type": "markdown",
   "metadata": {},
   "source": [
    "Now that we have a number of hours from the intial start day, we can enumerate the weeks as well as assign a value for what day of the week and hour of the week each tweet comes in at"
   ]
  },
  {
   "cell_type": "code",
   "execution_count": 10,
   "metadata": {
    "collapsed": true
   },
   "outputs": [],
   "source": [
    "tweets['weekNumber'] = ((tweets['daysFromStart']/7) + 1).apply(np.floor)\n",
    "tweets['dayNumber'] = tweets['daysFromStart'] + 1 - (tweets['weekNumber'] -1)*7\n",
    "tweets['hourNumber'] = tweets['hoursFromStart'] - (tweets['weekNumber'] -1)*168"
   ]
  },
  {
   "cell_type": "code",
   "execution_count": 11,
   "metadata": {
    "collapsed": false
   },
   "outputs": [
    {
     "data": {
      "text/html": [
       "<div>\n",
       "<style scoped>\n",
       "    .dataframe tbody tr th:only-of-type {\n",
       "        vertical-align: middle;\n",
       "    }\n",
       "\n",
       "    .dataframe tbody tr th {\n",
       "        vertical-align: top;\n",
       "    }\n",
       "\n",
       "    .dataframe thead th {\n",
       "        text-align: right;\n",
       "    }\n",
       "</style>\n",
       "<table border=\"1\" class=\"dataframe\">\n",
       "  <thead>\n",
       "    <tr style=\"text-align: right;\">\n",
       "      <th></th>\n",
       "      <th>source</th>\n",
       "      <th>text</th>\n",
       "      <th>created_at</th>\n",
       "      <th>retweet_count</th>\n",
       "      <th>favorite_count</th>\n",
       "      <th>is_retweet</th>\n",
       "      <th>id_str</th>\n",
       "      <th>fromStart</th>\n",
       "      <th>daysFromStart</th>\n",
       "      <th>hoursFromStart</th>\n",
       "      <th>weekNumber</th>\n",
       "      <th>dayNumber</th>\n",
       "      <th>hourNumber</th>\n",
       "    </tr>\n",
       "  </thead>\n",
       "  <tbody>\n",
       "    <tr>\n",
       "      <th>0</th>\n",
       "      <td>Twitter for iPhone</td>\n",
       "      <td>Thank you San Diego County for defending the r...</td>\n",
       "      <td>2018-04-19 11:23:22-04:00</td>\n",
       "      <td>111</td>\n",
       "      <td>311</td>\n",
       "      <td>False</td>\n",
       "      <td>986988633822412800</td>\n",
       "      <td>448 days 23:23:22</td>\n",
       "      <td>448.0</td>\n",
       "      <td>10775.0</td>\n",
       "      <td>65.0</td>\n",
       "      <td>1.0</td>\n",
       "      <td>23.0</td>\n",
       "    </tr>\n",
       "    <tr>\n",
       "      <th>1</th>\n",
       "      <td>Twitter for iPhone</td>\n",
       "      <td>Great meeting with Prime Minister Abe of Japan...</td>\n",
       "      <td>2018-04-19 10:45:14-04:00</td>\n",
       "      <td>4214</td>\n",
       "      <td>18427</td>\n",
       "      <td>False</td>\n",
       "      <td>986979039670931458</td>\n",
       "      <td>448 days 22:45:14</td>\n",
       "      <td>448.0</td>\n",
       "      <td>10774.0</td>\n",
       "      <td>65.0</td>\n",
       "      <td>1.0</td>\n",
       "      <td>22.0</td>\n",
       "    </tr>\n",
       "    <tr>\n",
       "      <th>2</th>\n",
       "      <td>Twitter for iPhone</td>\n",
       "      <td>It was my great honor to host my friend @JPN_P...</td>\n",
       "      <td>2018-04-18 22:58:21-04:00</td>\n",
       "      <td>11092</td>\n",
       "      <td>46465</td>\n",
       "      <td>False</td>\n",
       "      <td>986801143014621185</td>\n",
       "      <td>448 days 10:58:21</td>\n",
       "      <td>448.0</td>\n",
       "      <td>10762.0</td>\n",
       "      <td>65.0</td>\n",
       "      <td>1.0</td>\n",
       "      <td>10.0</td>\n",
       "    </tr>\n",
       "    <tr>\n",
       "      <th>3</th>\n",
       "      <td>Twitter for iPhone</td>\n",
       "      <td>RT @StateDept: .@POTUS Trump thanks Prime Mini...</td>\n",
       "      <td>2018-04-18 22:12:13-04:00</td>\n",
       "      <td>5409</td>\n",
       "      <td>0</td>\n",
       "      <td>True</td>\n",
       "      <td>986789533172760576</td>\n",
       "      <td>448 days 10:12:13</td>\n",
       "      <td>448.0</td>\n",
       "      <td>10762.0</td>\n",
       "      <td>65.0</td>\n",
       "      <td>1.0</td>\n",
       "      <td>10.0</td>\n",
       "    </tr>\n",
       "    <tr>\n",
       "      <th>4</th>\n",
       "      <td>Twitter for iPhone</td>\n",
       "      <td>Great working luncheon with U.S. and Japanese ...</td>\n",
       "      <td>2018-04-18 17:32:53-04:00</td>\n",
       "      <td>10662</td>\n",
       "      <td>52479</td>\n",
       "      <td>False</td>\n",
       "      <td>986719240240746497</td>\n",
       "      <td>448 days 05:32:53</td>\n",
       "      <td>448.0</td>\n",
       "      <td>10757.0</td>\n",
       "      <td>65.0</td>\n",
       "      <td>1.0</td>\n",
       "      <td>5.0</td>\n",
       "    </tr>\n",
       "  </tbody>\n",
       "</table>\n",
       "</div>"
      ],
      "text/plain": [
       "               source                                               text  \\\n",
       "0  Twitter for iPhone  Thank you San Diego County for defending the r...   \n",
       "1  Twitter for iPhone  Great meeting with Prime Minister Abe of Japan...   \n",
       "2  Twitter for iPhone  It was my great honor to host my friend @JPN_P...   \n",
       "3  Twitter for iPhone  RT @StateDept: .@POTUS Trump thanks Prime Mini...   \n",
       "4  Twitter for iPhone  Great working luncheon with U.S. and Japanese ...   \n",
       "\n",
       "                 created_at  retweet_count  favorite_count  is_retweet  \\\n",
       "0 2018-04-19 11:23:22-04:00            111             311       False   \n",
       "1 2018-04-19 10:45:14-04:00           4214           18427       False   \n",
       "2 2018-04-18 22:58:21-04:00          11092           46465       False   \n",
       "3 2018-04-18 22:12:13-04:00           5409               0        True   \n",
       "4 2018-04-18 17:32:53-04:00          10662           52479       False   \n",
       "\n",
       "               id_str         fromStart  daysFromStart  hoursFromStart  \\\n",
       "0  986988633822412800 448 days 23:23:22          448.0         10775.0   \n",
       "1  986979039670931458 448 days 22:45:14          448.0         10774.0   \n",
       "2  986801143014621185 448 days 10:58:21          448.0         10762.0   \n",
       "3  986789533172760576 448 days 10:12:13          448.0         10762.0   \n",
       "4  986719240240746497 448 days 05:32:53          448.0         10757.0   \n",
       "\n",
       "   weekNumber  dayNumber  hourNumber  \n",
       "0        65.0        1.0        23.0  \n",
       "1        65.0        1.0        22.0  \n",
       "2        65.0        1.0        10.0  \n",
       "3        65.0        1.0        10.0  \n",
       "4        65.0        1.0         5.0  "
      ]
     },
     "execution_count": 11,
     "metadata": {},
     "output_type": "execute_result"
    }
   ],
   "source": [
    "tweets.head()"
   ]
  },
  {
   "cell_type": "markdown",
   "metadata": {},
   "source": [
    "At this point we want to separate out the tweets that are in this current week and the tweets that came from completed weeks before"
   ]
  },
  {
   "cell_type": "code",
   "execution_count": 12,
   "metadata": {
    "collapsed": true
   },
   "outputs": [],
   "source": [
    "thisWeek = tweets.loc[tweets['created_at'] > endDay]\n",
    "tweets = tweets.loc[tweets['created_at'] < endDay]"
   ]
  },
  {
   "cell_type": "markdown",
   "metadata": {},
   "source": [
    "## Exploratory Analysis"
   ]
  },
  {
   "cell_type": "markdown",
   "metadata": {},
   "source": [
    "In this section, we'll look at the weekly tweet counts for past weeks. We'll focus on how the counts are distributed."
   ]
  },
  {
   "cell_type": "code",
   "execution_count": 15,
   "metadata": {
    "collapsed": true
   },
   "outputs": [],
   "source": [
    "weeklyTotals = tweets['text'].groupby(tweets['weekNumber']).size()"
   ]
  },
  {
   "cell_type": "code",
   "execution_count": 16,
   "metadata": {
    "collapsed": false
   },
   "outputs": [
    {
     "name": "stdout",
     "output_type": "stream",
     "text": [
      "The average weekly tweet count is 47.921875 with a standard deviation of 16.9343313237\n"
     ]
    }
   ],
   "source": [
    "print(\"The average weekly tweet count is {} with a standard deviation of {}\".format(weeklyTotals.mean(),\n",
    "                                                                                    weeklyTotals.std()))"
   ]
  },
  {
   "cell_type": "code",
   "execution_count": 17,
   "metadata": {
    "collapsed": false
   },
   "outputs": [
    {
     "data": {
      "image/png": "[encoded data removed]",
      "text/plain": [
       "<Figure size 432x288 with 1 Axes>"
      ]
     },
     "metadata": {},
     "output_type": "display_data"
    }
   ],
   "source": [
    "import matplotlib\n",
    "import matplotlib.pyplot as plt\n",
    "\n",
    "num_bins = 10\n",
    "\n",
    "fig, ax = plt.subplots()\n",
    "\n",
    "n, bins, patches = ax.hist(weeklyTotals, num_bins)\n",
    "\n",
    "ax.set_xlabel('Weekly Tweet Count')\n",
    "ax.set_ylabel('Number of Weeks')\n",
    "ax.set_title('Histogram of Weekly Tweet Counts')\n",
    "\n",
    "plt.show()"
   ]
  },
  {
   "cell_type": "code",
   "execution_count": 18,
   "metadata": {
    "collapsed": false
   },
   "outputs": [
    {
     "name": "stdout",
     "output_type": "stream",
     "text": [
      "Skew = 0.279586866631\n",
      "Kurtosis = -0.0961785385026\n"
     ]
    }
   ],
   "source": [
    "print 'Skew =', weeklyTotals.skew()\n",
    "print 'Kurtosis =', weeklyTotals.kurt()"
   ]
  },
  {
   "cell_type": "markdown",
   "metadata": {},
   "source": [
    "The distribution of weekly counts appears relatively normal, but we can calculate the Skew and Kurtosis of the set to further quantify the distribution. The positive skew means that there is a heavier tail to the right. The slightly negative Kurtosis means that the tails are light, and do not have many outliers.  \n",
    "  \n",
    "It's important to keep these metrics in mind as in the prediction phase we'll use a skewed normal distribution to find probabilities of a final tweet count."
   ]
  },
  {
   "cell_type": "markdown",
   "metadata": {},
   "source": [
    "## Import and Clean Prices"
   ]
  },
  {
   "cell_type": "markdown",
   "metadata": {},
   "source": [
    "PredictIt has an API that shows current prices and the tweet brackets for their markets. The number and size of the brackets can change from week to week, so it's helpful to make this pretty flexible."
   ]
  },
  {
   "cell_type": "code",
   "execution_count": 19,
   "metadata": {
    "collapsed": true
   },
   "outputs": [],
   "source": [
    "url = \"https://www.predictit.org/api/marketdata/ticker/RDTS.\" + str(endDay.month).rjust(2, '0') + str(endDay.day + 7).rjust(2, '0') + str(endDay.year)[-2:]"
   ]
  },
  {
   "cell_type": "code",
   "execution_count": 20,
   "metadata": {
    "collapsed": true
   },
   "outputs": [],
   "source": [
    "page = re=json.load(urllib2.urlopen(url))\n",
    "page = pd.DataFrame.from_dict(page)"
   ]
  },
  {
   "cell_type": "code",
   "execution_count": 21,
   "metadata": {
    "collapsed": true
   },
   "outputs": [],
   "source": [
    "priceData = []\n",
    "for i in range(0, len(page)):\n",
    "    data = pd.DataFrame.from_dict(page.Contracts[i],  orient='index').transpose()\n",
    "    priceData.append(data)\n",
    "\n",
    "priceData = pd.concat(priceData, axis=0, ignore_index=True)"
   ]
  },
  {
   "cell_type": "code",
   "execution_count": 22,
   "metadata": {
    "collapsed": true
   },
   "outputs": [],
   "source": [
    "priceData = priceData.loc[:,('Name', 'BestBuyYesCost', 'BestSellYesCost', 'BestBuyNoCost', 'BestSellNoCost','TickerSymbol')]\n",
    "priceData.sort_values(by = 'TickerSymbol', ascending=True, inplace=True)\n",
    "priceData.reset_index(drop=True, inplace=True)"
   ]
  },
  {
   "cell_type": "code",
   "execution_count": 23,
   "metadata": {
    "collapsed": true
   },
   "outputs": [],
   "source": [
    "brackets = []\n",
    "for b in range(1,len(priceData)):\n",
    "    brackets.append(int(priceData['TickerSymbol'][b].split(\".\")[0]))"
   ]
  },
  {
   "cell_type": "code",
   "execution_count": 24,
   "metadata": {
    "collapsed": false
   },
   "outputs": [
    {
     "data": {
      "text/html": [
       "<div>\n",
       "<style scoped>\n",
       "    .dataframe tbody tr th:only-of-type {\n",
       "        vertical-align: middle;\n",
       "    }\n",
       "\n",
       "    .dataframe tbody tr th {\n",
       "        vertical-align: top;\n",
       "    }\n",
       "\n",
       "    .dataframe thead th {\n",
       "        text-align: right;\n",
       "    }\n",
       "</style>\n",
       "<table border=\"1\" class=\"dataframe\">\n",
       "  <thead>\n",
       "    <tr style=\"text-align: right;\">\n",
       "      <th></th>\n",
       "      <th>Name</th>\n",
       "      <th>BestBuyYesCost</th>\n",
       "      <th>BestSellYesCost</th>\n",
       "      <th>BestBuyNoCost</th>\n",
       "      <th>BestSellNoCost</th>\n",
       "      <th>TickerSymbol</th>\n",
       "    </tr>\n",
       "  </thead>\n",
       "  <tbody>\n",
       "    <tr>\n",
       "      <th>0</th>\n",
       "      <td>29 or fewer</td>\n",
       "      <td>0.01</td>\n",
       "      <td>None</td>\n",
       "      <td>None</td>\n",
       "      <td>0.99</td>\n",
       "      <td>29.RDTS.042518</td>\n",
       "    </tr>\n",
       "    <tr>\n",
       "      <th>1</th>\n",
       "      <td>30 - 39</td>\n",
       "      <td>0.01</td>\n",
       "      <td>None</td>\n",
       "      <td>None</td>\n",
       "      <td>0.99</td>\n",
       "      <td>30.RDTS.042518</td>\n",
       "    </tr>\n",
       "    <tr>\n",
       "      <th>2</th>\n",
       "      <td>40 - 49</td>\n",
       "      <td>0.02</td>\n",
       "      <td>0.01</td>\n",
       "      <td>0.99</td>\n",
       "      <td>0.98</td>\n",
       "      <td>40.RDTS.042518</td>\n",
       "    </tr>\n",
       "    <tr>\n",
       "      <th>3</th>\n",
       "      <td>50 - 59</td>\n",
       "      <td>0.09</td>\n",
       "      <td>0.07</td>\n",
       "      <td>0.93</td>\n",
       "      <td>0.91</td>\n",
       "      <td>50.RDTS.042518</td>\n",
       "    </tr>\n",
       "    <tr>\n",
       "      <th>4</th>\n",
       "      <td>60 - 69</td>\n",
       "      <td>0.35</td>\n",
       "      <td>0.33</td>\n",
       "      <td>0.67</td>\n",
       "      <td>0.65</td>\n",
       "      <td>60.RDTS.042518</td>\n",
       "    </tr>\n",
       "    <tr>\n",
       "      <th>5</th>\n",
       "      <td>70 - 79</td>\n",
       "      <td>0.35</td>\n",
       "      <td>0.33</td>\n",
       "      <td>0.67</td>\n",
       "      <td>0.65</td>\n",
       "      <td>70.RDTS.042518</td>\n",
       "    </tr>\n",
       "    <tr>\n",
       "      <th>6</th>\n",
       "      <td>80 or more</td>\n",
       "      <td>0.28</td>\n",
       "      <td>0.25</td>\n",
       "      <td>0.75</td>\n",
       "      <td>0.72</td>\n",
       "      <td>80.RDTS.042518</td>\n",
       "    </tr>\n",
       "  </tbody>\n",
       "</table>\n",
       "</div>"
      ],
      "text/plain": [
       "          Name BestBuyYesCost BestSellYesCost BestBuyNoCost BestSellNoCost  \\\n",
       "0  29 or fewer           0.01            None          None           0.99   \n",
       "1      30 - 39           0.01            None          None           0.99   \n",
       "2      40 - 49           0.02            0.01          0.99           0.98   \n",
       "3      50 - 59           0.09            0.07          0.93           0.91   \n",
       "4      60 - 69           0.35            0.33          0.67           0.65   \n",
       "5      70 - 79           0.35            0.33          0.67           0.65   \n",
       "6   80 or more           0.28            0.25          0.75           0.72   \n",
       "\n",
       "     TickerSymbol  \n",
       "0  29.RDTS.042518  \n",
       "1  30.RDTS.042518  \n",
       "2  40.RDTS.042518  \n",
       "3  50.RDTS.042518  \n",
       "4  60.RDTS.042518  \n",
       "5  70.RDTS.042518  \n",
       "6  80.RDTS.042518  "
      ]
     },
     "execution_count": 24,
     "metadata": {},
     "output_type": "execute_result"
    }
   ],
   "source": [
    "priceData"
   ]
  },
  {
   "cell_type": "markdown",
   "metadata": {},
   "source": [
    "## Caclulate Average Rates"
   ]
  },
  {
   "cell_type": "markdown",
   "metadata": {},
   "source": [
    "In this section we'll look at the average tweeting pace for each given hour throughout the week. In the hourlyRates case, we'll look at after a given hour what are the average, standard devation, and skew of the remaining number of tweets for all past weeks. In the averagePace case we're finding up to a given hour what is the average and standard deviation of the number of tweets for all past weeks."
   ]
  },
  {
   "cell_type": "code",
   "execution_count": 25,
   "metadata": {
    "collapsed": true
   },
   "outputs": [],
   "source": [
    "d = []\n",
    "for h in range(0,168, 1):\n",
    "    \n",
    "    tmptweets = tweets.loc[tweets['hourNumber'] >= h].groupby('weekNumber').size()\n",
    "    \n",
    "    if(len(tmptweets) < tweets['weekNumber'].max()):\n",
    "        tmptweets = np.append(tmptweets.values, (int(tweets['weekNumber'].max() - len(tmptweets)) * [0]))\n",
    "        \n",
    "    \n",
    "    d.append({'hourNumber': h,\n",
    "              'meanRemainingTweets': tmptweets.mean(),\n",
    "              'stdRemainingTweets': tmptweets.std(),\n",
    "              'skewRemainingTweets': stats.skew(tmptweets)})\n",
    "    \n",
    "hourlyRates = pd.DataFrame(d)"
   ]
  },
  {
   "cell_type": "code",
   "execution_count": 26,
   "metadata": {
    "collapsed": true
   },
   "outputs": [],
   "source": [
    "d = []\n",
    "for h in range(0,168, 1):\n",
    "    \n",
    "    tmptweets = tweets.loc[tweets['hourNumber'] <= h].groupby('weekNumber').size()\n",
    "    \n",
    "    if(len(tmptweets) < tweets['weekNumber'].max()):\n",
    "        tmptweets = np.append(tmptweets.values, (int(tweets['weekNumber'].max() - len(tmptweets)) * [0]))\n",
    "        \n",
    "    \n",
    "    d.append({'hourNumber': h,\n",
    "              'meanTweets': tmptweets.mean(),\n",
    "              'stdTweets': tmptweets.std()})\n",
    "\n",
    "averagePace = pd.DataFrame(d)"
   ]
  },
  {
   "cell_type": "markdown",
   "metadata": {
    "collapsed": true
   },
   "source": [
    "## Make a prediction for this week"
   ]
  },
  {
   "cell_type": "markdown",
   "metadata": {},
   "source": [
    "At this point we'll use the hourlyRates and the current number of tweets to make a prediction for what the final amount of tweets will be. We know how many tweets have currently been sent out this week and we also know how many hours we have left in the week. Using the hourlyRates we can find what the average number of tweets are remaining from past weeks. We can also use the standard deviation and skew values to define a skewed normal distribution and assign probabilities to the final tweet count ending up in one of the brackets"
   ]
  },
  {
   "cell_type": "code",
   "execution_count": 27,
   "metadata": {
    "collapsed": true
   },
   "outputs": [],
   "source": [
    "thisWeek = thisWeek[['text', 'created_at','fromStart', 'daysFromStart', 'weekNumber',\n",
    "       'dayNumber', 'hourNumber']]"
   ]
  },
  {
   "cell_type": "code",
   "execution_count": 28,
   "metadata": {
    "collapsed": false
   },
   "outputs": [
    {
     "data": {
      "text/html": [
       "<div>\n",
       "<style scoped>\n",
       "    .dataframe tbody tr th:only-of-type {\n",
       "        vertical-align: middle;\n",
       "    }\n",
       "\n",
       "    .dataframe tbody tr th {\n",
       "        vertical-align: top;\n",
       "    }\n",
       "\n",
       "    .dataframe thead th {\n",
       "        text-align: right;\n",
       "    }\n",
       "</style>\n",
       "<table border=\"1\" class=\"dataframe\">\n",
       "  <thead>\n",
       "    <tr style=\"text-align: right;\">\n",
       "      <th></th>\n",
       "      <th>text</th>\n",
       "      <th>created_at</th>\n",
       "      <th>fromStart</th>\n",
       "      <th>daysFromStart</th>\n",
       "      <th>weekNumber</th>\n",
       "      <th>dayNumber</th>\n",
       "      <th>hourNumber</th>\n",
       "    </tr>\n",
       "  </thead>\n",
       "  <tbody>\n",
       "    <tr>\n",
       "      <th>0</th>\n",
       "      <td>Thank you San Diego County for defending the r...</td>\n",
       "      <td>2018-04-19 11:23:22-04:00</td>\n",
       "      <td>448 days 23:23:22</td>\n",
       "      <td>448.0</td>\n",
       "      <td>65.0</td>\n",
       "      <td>1.0</td>\n",
       "      <td>23.0</td>\n",
       "    </tr>\n",
       "    <tr>\n",
       "      <th>1</th>\n",
       "      <td>Great meeting with Prime Minister Abe of Japan...</td>\n",
       "      <td>2018-04-19 10:45:14-04:00</td>\n",
       "      <td>448 days 22:45:14</td>\n",
       "      <td>448.0</td>\n",
       "      <td>65.0</td>\n",
       "      <td>1.0</td>\n",
       "      <td>22.0</td>\n",
       "    </tr>\n",
       "    <tr>\n",
       "      <th>2</th>\n",
       "      <td>It was my great honor to host my friend @JPN_P...</td>\n",
       "      <td>2018-04-18 22:58:21-04:00</td>\n",
       "      <td>448 days 10:58:21</td>\n",
       "      <td>448.0</td>\n",
       "      <td>65.0</td>\n",
       "      <td>1.0</td>\n",
       "      <td>10.0</td>\n",
       "    </tr>\n",
       "    <tr>\n",
       "      <th>3</th>\n",
       "      <td>RT @StateDept: .@POTUS Trump thanks Prime Mini...</td>\n",
       "      <td>2018-04-18 22:12:13-04:00</td>\n",
       "      <td>448 days 10:12:13</td>\n",
       "      <td>448.0</td>\n",
       "      <td>65.0</td>\n",
       "      <td>1.0</td>\n",
       "      <td>10.0</td>\n",
       "    </tr>\n",
       "    <tr>\n",
       "      <th>4</th>\n",
       "      <td>Great working luncheon with U.S. and Japanese ...</td>\n",
       "      <td>2018-04-18 17:32:53-04:00</td>\n",
       "      <td>448 days 05:32:53</td>\n",
       "      <td>448.0</td>\n",
       "      <td>65.0</td>\n",
       "      <td>1.0</td>\n",
       "      <td>5.0</td>\n",
       "    </tr>\n",
       "  </tbody>\n",
       "</table>\n",
       "</div>"
      ],
      "text/plain": [
       "                                                text  \\\n",
       "0  Thank you San Diego County for defending the r...   \n",
       "1  Great meeting with Prime Minister Abe of Japan...   \n",
       "2  It was my great honor to host my friend @JPN_P...   \n",
       "3  RT @StateDept: .@POTUS Trump thanks Prime Mini...   \n",
       "4  Great working luncheon with U.S. and Japanese ...   \n",
       "\n",
       "                 created_at         fromStart  daysFromStart  weekNumber  \\\n",
       "0 2018-04-19 11:23:22-04:00 448 days 23:23:22          448.0        65.0   \n",
       "1 2018-04-19 10:45:14-04:00 448 days 22:45:14          448.0        65.0   \n",
       "2 2018-04-18 22:58:21-04:00 448 days 10:58:21          448.0        65.0   \n",
       "3 2018-04-18 22:12:13-04:00 448 days 10:12:13          448.0        65.0   \n",
       "4 2018-04-18 17:32:53-04:00 448 days 05:32:53          448.0        65.0   \n",
       "\n",
       "   dayNumber  hourNumber  \n",
       "0        1.0        23.0  \n",
       "1        1.0        22.0  \n",
       "2        1.0        10.0  \n",
       "3        1.0        10.0  \n",
       "4        1.0         5.0  "
      ]
     },
     "execution_count": 28,
     "metadata": {},
     "output_type": "execute_result"
    }
   ],
   "source": [
    "thisWeek.head()"
   ]
  },
  {
   "cell_type": "markdown",
   "metadata": {},
   "source": [
    "We want to insert a dummy tweet to make sure that the number of remaining tweets is calculated from the current hour. We'll remove it later on."
   ]
  },
  {
   "cell_type": "code",
   "execution_count": 29,
   "metadata": {
    "collapsed": true
   },
   "outputs": [],
   "source": [
    "dummy = pd.DataFrame({'text': 'Dummy Tweet',\n",
    "                      'created_at': pd.datetime.now(), \n",
    "                      'fromStart': now - startDay,\n",
    "                      'daysFromStart': np.floor((now - startDay)/np.timedelta64(1, 'D')),\n",
    "                      'weekNumber': thisWeek['weekNumber'][0],\n",
    "                      'dayNumber': np.floor((now - startDay)/np.timedelta64(1, 'D'))+ 1 - (thisWeek['weekNumber'][0] -1)*7,\n",
    "                      'hourNumber': np.floor((now - startDay)/np.timedelta64(1, 'h'))+ 1 - (thisWeek['weekNumber'][0] -1)*168},\n",
    "                     index=[0])"
   ]
  },
  {
   "cell_type": "code",
   "execution_count": 30,
   "metadata": {
    "collapsed": true
   },
   "outputs": [],
   "source": [
    "thisWeek = pd.concat([dummy,thisWeek.iloc[:]]).reset_index(drop=True)"
   ]
  },
  {
   "cell_type": "code",
   "execution_count": 31,
   "metadata": {
    "collapsed": false
   },
   "outputs": [
    {
     "data": {
      "text/html": [
       "<div>\n",
       "<style scoped>\n",
       "    .dataframe tbody tr th:only-of-type {\n",
       "        vertical-align: middle;\n",
       "    }\n",
       "\n",
       "    .dataframe tbody tr th {\n",
       "        vertical-align: top;\n",
       "    }\n",
       "\n",
       "    .dataframe thead th {\n",
       "        text-align: right;\n",
       "    }\n",
       "</style>\n",
       "<table border=\"1\" class=\"dataframe\">\n",
       "  <thead>\n",
       "    <tr style=\"text-align: right;\">\n",
       "      <th></th>\n",
       "      <th>created_at</th>\n",
       "      <th>dayNumber</th>\n",
       "      <th>daysFromStart</th>\n",
       "      <th>fromStart</th>\n",
       "      <th>hourNumber</th>\n",
       "      <th>text</th>\n",
       "      <th>weekNumber</th>\n",
       "    </tr>\n",
       "  </thead>\n",
       "  <tbody>\n",
       "    <tr>\n",
       "      <th>0</th>\n",
       "      <td>2018-04-22 11:05:17.332724</td>\n",
       "      <td>4.0</td>\n",
       "      <td>451.0</td>\n",
       "      <td>451 days 23:01:02.363322</td>\n",
       "      <td>96.0</td>\n",
       "      <td>Dummy Tweet</td>\n",
       "      <td>65.0</td>\n",
       "    </tr>\n",
       "    <tr>\n",
       "      <th>1</th>\n",
       "      <td>2018-04-19 11:23:22-04:00</td>\n",
       "      <td>1.0</td>\n",
       "      <td>448.0</td>\n",
       "      <td>448 days 23:23:22</td>\n",
       "      <td>23.0</td>\n",
       "      <td>Thank you San Diego County for defending the r...</td>\n",
       "      <td>65.0</td>\n",
       "    </tr>\n",
       "    <tr>\n",
       "      <th>2</th>\n",
       "      <td>2018-04-19 10:45:14-04:00</td>\n",
       "      <td>1.0</td>\n",
       "      <td>448.0</td>\n",
       "      <td>448 days 22:45:14</td>\n",
       "      <td>22.0</td>\n",
       "      <td>Great meeting with Prime Minister Abe of Japan...</td>\n",
       "      <td>65.0</td>\n",
       "    </tr>\n",
       "    <tr>\n",
       "      <th>3</th>\n",
       "      <td>2018-04-18 22:58:21-04:00</td>\n",
       "      <td>1.0</td>\n",
       "      <td>448.0</td>\n",
       "      <td>448 days 10:58:21</td>\n",
       "      <td>10.0</td>\n",
       "      <td>It was my great honor to host my friend @JPN_P...</td>\n",
       "      <td>65.0</td>\n",
       "    </tr>\n",
       "    <tr>\n",
       "      <th>4</th>\n",
       "      <td>2018-04-18 22:12:13-04:00</td>\n",
       "      <td>1.0</td>\n",
       "      <td>448.0</td>\n",
       "      <td>448 days 10:12:13</td>\n",
       "      <td>10.0</td>\n",
       "      <td>RT @StateDept: .@POTUS Trump thanks Prime Mini...</td>\n",
       "      <td>65.0</td>\n",
       "    </tr>\n",
       "  </tbody>\n",
       "</table>\n",
       "</div>"
      ],
      "text/plain": [
       "                   created_at  dayNumber  daysFromStart  \\\n",
       "0  2018-04-22 11:05:17.332724        4.0          451.0   \n",
       "1   2018-04-19 11:23:22-04:00        1.0          448.0   \n",
       "2   2018-04-19 10:45:14-04:00        1.0          448.0   \n",
       "3   2018-04-18 22:58:21-04:00        1.0          448.0   \n",
       "4   2018-04-18 22:12:13-04:00        1.0          448.0   \n",
       "\n",
       "                 fromStart  hourNumber  \\\n",
       "0 451 days 23:01:02.363322        96.0   \n",
       "1        448 days 23:23:22        23.0   \n",
       "2        448 days 22:45:14        22.0   \n",
       "3        448 days 10:58:21        10.0   \n",
       "4        448 days 10:12:13        10.0   \n",
       "\n",
       "                                                text  weekNumber  \n",
       "0                                        Dummy Tweet        65.0  \n",
       "1  Thank you San Diego County for defending the r...        65.0  \n",
       "2  Great meeting with Prime Minister Abe of Japan...        65.0  \n",
       "3  It was my great honor to host my friend @JPN_P...        65.0  \n",
       "4  RT @StateDept: .@POTUS Trump thanks Prime Mini...        65.0  "
      ]
     },
     "execution_count": 31,
     "metadata": {},
     "output_type": "execute_result"
    }
   ],
   "source": [
    "thisWeek.head()"
   ]
  },
  {
   "cell_type": "code",
   "execution_count": 32,
   "metadata": {
    "collapsed": false
   },
   "outputs": [
    {
     "name": "stdout",
     "output_type": "stream",
     "text": [
      "There have been 7 tweets, with an average of 19.09375 and std 9.68179235341 remaining\n"
     ]
    }
   ],
   "source": [
    "print(\"There have been {} tweets, with an average of {} and std {} remaining\".format(thisWeek['text'].count() - 1,\n",
    "                                                                                     hourlyRates.loc[hourlyRates['hourNumber'] == thisWeek['hourNumber'][0],'meanRemainingTweets'].iloc[0],\n",
    "                                                                                     hourlyRates.loc[hourlyRates['hourNumber'] == thisWeek['hourNumber'][0],'stdRemainingTweets'].iloc[0]))"
   ]
  },
  {
   "cell_type": "markdown",
   "metadata": {},
   "source": [
    "In the following section we'll use a skewed normalized distribution to assign a probability to each of the tweet brackets"
   ]
  },
  {
   "cell_type": "code",
   "execution_count": 33,
   "metadata": {
    "collapsed": true
   },
   "outputs": [],
   "source": [
    "lastPrediction = thisWeek['text'].count() - 1 + hourlyRates.loc[hourlyRates['hourNumber'] == thisWeek['hourNumber'][0],'meanRemainingTweets'].iloc[0]\n",
    "stddev = hourlyRates.loc[hourlyRates['hourNumber'] == thisWeek['hourNumber'][0],'stdRemainingTweets'].iloc[0]\n",
    "skew = hourlyRates.loc[hourlyRates['hourNumber'] == thisWeek['hourNumber'][0],'skewRemainingTweets'].iloc[0]"
   ]
  },
  {
   "cell_type": "code",
   "execution_count": 34,
   "metadata": {
    "collapsed": true
   },
   "outputs": [],
   "source": [
    "yesProbs = []\n",
    "for b in range(0,len(priceData)):\n",
    "    if b == 0:\n",
    "        yesProbs.append(skewnorm.cdf(brackets[b],skew,lastPrediction,stddev))\n",
    "    elif b > 0 and b < priceData.index.max():\n",
    "        yesProbs.append(1 - skewnorm.cdf(brackets[b-1],skew,lastPrediction,stddev) - skewnorm.sf(brackets[b],skew,lastPrediction,stddev))\n",
    "    else:\n",
    "        yesProbs.append(skewnorm.sf(brackets[b-1],skew,lastPrediction,stddev))"
   ]
  },
  {
   "cell_type": "code",
   "execution_count": 35,
   "metadata": {
    "collapsed": true
   },
   "outputs": [],
   "source": [
    "priceData['probabilityYes'] = yesProbs\n",
    "priceData['probabilityNo'] = 1 - priceData['probabilityYes']"
   ]
  },
  {
   "cell_type": "code",
   "execution_count": 36,
   "metadata": {
    "collapsed": false
   },
   "outputs": [
    {
     "data": {
      "text/html": [
       "<div>\n",
       "<style scoped>\n",
       "    .dataframe tbody tr th:only-of-type {\n",
       "        vertical-align: middle;\n",
       "    }\n",
       "\n",
       "    .dataframe tbody tr th {\n",
       "        vertical-align: top;\n",
       "    }\n",
       "\n",
       "    .dataframe thead th {\n",
       "        text-align: right;\n",
       "    }\n",
       "</style>\n",
       "<table border=\"1\" class=\"dataframe\">\n",
       "  <thead>\n",
       "    <tr style=\"text-align: right;\">\n",
       "      <th></th>\n",
       "      <th>Name</th>\n",
       "      <th>BestBuyYesCost</th>\n",
       "      <th>BestSellYesCost</th>\n",
       "      <th>BestBuyNoCost</th>\n",
       "      <th>BestSellNoCost</th>\n",
       "      <th>TickerSymbol</th>\n",
       "      <th>probabilityYes</th>\n",
       "      <th>probabilityNo</th>\n",
       "    </tr>\n",
       "  </thead>\n",
       "  <tbody>\n",
       "    <tr>\n",
       "      <th>0</th>\n",
       "      <td>29 or fewer</td>\n",
       "      <td>0.01</td>\n",
       "      <td>None</td>\n",
       "      <td>None</td>\n",
       "      <td>0.99</td>\n",
       "      <td>29.RDTS.042518</td>\n",
       "      <td>4.702086e-01</td>\n",
       "      <td>0.529791</td>\n",
       "    </tr>\n",
       "    <tr>\n",
       "      <th>1</th>\n",
       "      <td>30 - 39</td>\n",
       "      <td>0.01</td>\n",
       "      <td>None</td>\n",
       "      <td>None</td>\n",
       "      <td>0.99</td>\n",
       "      <td>30.RDTS.042518</td>\n",
       "      <td>3.919353e-01</td>\n",
       "      <td>0.608065</td>\n",
       "    </tr>\n",
       "    <tr>\n",
       "      <th>2</th>\n",
       "      <td>40 - 49</td>\n",
       "      <td>0.02</td>\n",
       "      <td>0.01</td>\n",
       "      <td>0.99</td>\n",
       "      <td>0.98</td>\n",
       "      <td>40.RDTS.042518</td>\n",
       "      <td>1.245841e-01</td>\n",
       "      <td>0.875416</td>\n",
       "    </tr>\n",
       "    <tr>\n",
       "      <th>3</th>\n",
       "      <td>50 - 59</td>\n",
       "      <td>0.09</td>\n",
       "      <td>0.07</td>\n",
       "      <td>0.93</td>\n",
       "      <td>0.91</td>\n",
       "      <td>50.RDTS.042518</td>\n",
       "      <td>1.281165e-02</td>\n",
       "      <td>0.987188</td>\n",
       "    </tr>\n",
       "    <tr>\n",
       "      <th>4</th>\n",
       "      <td>60 - 69</td>\n",
       "      <td>0.35</td>\n",
       "      <td>0.33</td>\n",
       "      <td>0.67</td>\n",
       "      <td>0.65</td>\n",
       "      <td>60.RDTS.042518</td>\n",
       "      <td>4.546669e-04</td>\n",
       "      <td>0.999545</td>\n",
       "    </tr>\n",
       "    <tr>\n",
       "      <th>5</th>\n",
       "      <td>70 - 79</td>\n",
       "      <td>0.35</td>\n",
       "      <td>0.33</td>\n",
       "      <td>0.67</td>\n",
       "      <td>0.65</td>\n",
       "      <td>70.RDTS.042518</td>\n",
       "      <td>5.735259e-06</td>\n",
       "      <td>0.999994</td>\n",
       "    </tr>\n",
       "    <tr>\n",
       "      <th>6</th>\n",
       "      <td>80 or more</td>\n",
       "      <td>0.28</td>\n",
       "      <td>0.25</td>\n",
       "      <td>0.75</td>\n",
       "      <td>0.72</td>\n",
       "      <td>80.RDTS.042518</td>\n",
       "      <td>2.579784e-08</td>\n",
       "      <td>1.000000</td>\n",
       "    </tr>\n",
       "  </tbody>\n",
       "</table>\n",
       "</div>"
      ],
      "text/plain": [
       "          Name BestBuyYesCost BestSellYesCost BestBuyNoCost BestSellNoCost  \\\n",
       "0  29 or fewer           0.01            None          None           0.99   \n",
       "1      30 - 39           0.01            None          None           0.99   \n",
       "2      40 - 49           0.02            0.01          0.99           0.98   \n",
       "3      50 - 59           0.09            0.07          0.93           0.91   \n",
       "4      60 - 69           0.35            0.33          0.67           0.65   \n",
       "5      70 - 79           0.35            0.33          0.67           0.65   \n",
       "6   80 or more           0.28            0.25          0.75           0.72   \n",
       "\n",
       "     TickerSymbol  probabilityYes  probabilityNo  \n",
       "0  29.RDTS.042518    4.702086e-01       0.529791  \n",
       "1  30.RDTS.042518    3.919353e-01       0.608065  \n",
       "2  40.RDTS.042518    1.245841e-01       0.875416  \n",
       "3  50.RDTS.042518    1.281165e-02       0.987188  \n",
       "4  60.RDTS.042518    4.546669e-04       0.999545  \n",
       "5  70.RDTS.042518    5.735259e-06       0.999994  \n",
       "6  80.RDTS.042518    2.579784e-08       1.000000  "
      ]
     },
     "execution_count": 36,
     "metadata": {},
     "output_type": "execute_result"
    }
   ],
   "source": [
    "priceData"
   ]
  },
  {
   "cell_type": "markdown",
   "metadata": {},
   "source": [
    "## Visualizing the Tweets"
   ]
  },
  {
   "cell_type": "markdown",
   "metadata": {},
   "source": [
    "In this section we'll create a giant dataframe that includes the average pace, the current pace, and the projected pace. I used Plotly to create these charts because later on I plan to create a dashboard using Dash."
   ]
  },
  {
   "cell_type": "code",
   "execution_count": 37,
   "metadata": {
    "collapsed": true
   },
   "outputs": [],
   "source": [
    "# Start off the plotting df with average page\n",
    "\n",
    "plotdf = averagePace\n",
    "plotdf['averagePlus'] = plotdf['meanTweets'] + plotdf['stdTweets']\n",
    "plotdf['averageMinus'] = plotdf['meanTweets'] - plotdf['stdTweets']"
   ]
  },
  {
   "cell_type": "code",
   "execution_count": 38,
   "metadata": {
    "collapsed": true
   },
   "outputs": [],
   "source": [
    "# Get this weeks pace into an hourly count, then merge\n",
    "\n",
    "thisWeekHourly = pd.DataFrame(thisWeek.hourNumber.value_counts().reset_index())\n",
    "thisWeekHourly.columns = ['hourNumber', 'count']\n",
    "thisWeekHourly.sort_values(by = 'hourNumber', inplace=True)\n",
    "thisWeekHourly['currentCount'] = thisWeekHourly['count'].cumsum()\n",
    "thisWeekHourly.loc[thisWeekHourly.index[-1], 'currentCount'] = thisWeekHourly.loc[thisWeekHourly.index[-1], 'currentCount'] - 1\n",
    "\n",
    "plotdf = plotdf.merge(thisWeekHourly[['hourNumber', 'currentCount']], left_on='hourNumber', right_on='hourNumber', how='left')"
   ]
  },
  {
   "cell_type": "code",
   "execution_count": 39,
   "metadata": {
    "collapsed": true
   },
   "outputs": [],
   "source": [
    "# Fill in the values from this weeks pace\n",
    "\n",
    "plotdf.loc[:thisWeekHourly['hourNumber'].max(), :] = plotdf.loc[:thisWeekHourly['hourNumber'].max(), :].fillna(method='ffill')\n",
    "plotdf.loc[:thisWeekHourly['hourNumber'].max(), :] = plotdf.loc[:thisWeekHourly['hourNumber'].max(), :].fillna(0)"
   ]
  },
  {
   "cell_type": "code",
   "execution_count": 40,
   "metadata": {
    "collapsed": true
   },
   "outputs": [],
   "source": [
    "# Initialize the forecast columns\n",
    "\n",
    "plotdf['forecast'] = plotdf['currentCount']\n",
    "plotdf['forecastPlus'] = plotdf['currentCount']\n",
    "plotdf['forecastMinus'] = plotdf['currentCount']"
   ]
  },
  {
   "cell_type": "code",
   "execution_count": 41,
   "metadata": {
    "collapsed": true
   },
   "outputs": [],
   "source": [
    "# Put in the end points for the forecast\n",
    "\n",
    "plotdf.loc[plotdf.index[-1], 'forecast'] = hourlyRates.loc[hourlyRates['hourNumber'] == thisWeekHourly['hourNumber'].max(),'meanRemainingTweets'].iloc[0] + plotdf['currentCount'].max()\n",
    "plotdf.loc[plotdf.index[-1], 'forecastPlus'] = plotdf.loc[plotdf.index[-1], 'forecast'] + hourlyRates.loc[hourlyRates['hourNumber'] == thisWeekHourly['hourNumber'].max(),'stdRemainingTweets'].iloc[0]\n",
    "plotdf.loc[plotdf.index[-1], 'forecastMinus'] = plotdf.loc[plotdf.index[-1], 'forecast'] - hourlyRates.loc[hourlyRates['hourNumber'] == thisWeekHourly['hourNumber'].max(),'stdRemainingTweets'].iloc[0]"
   ]
  },
  {
   "cell_type": "code",
   "execution_count": 42,
   "metadata": {
    "collapsed": true
   },
   "outputs": [],
   "source": [
    "# Interpolate from the current state to the forecasts\n",
    "\n",
    "plotdf['forecast'] = plotdf['forecast'].interpolate()\n",
    "plotdf['forecastPlus'] = plotdf['forecastPlus'].interpolate()\n",
    "plotdf['forecastMinus'] = plotdf['forecastMinus'].interpolate()"
   ]
  },
  {
   "cell_type": "code",
   "execution_count": 43,
   "metadata": {
    "collapsed": false
   },
   "outputs": [
    {
     "data": {
      "text/html": [
       "<div>\n",
       "<style scoped>\n",
       "    .dataframe tbody tr th:only-of-type {\n",
       "        vertical-align: middle;\n",
       "    }\n",
       "\n",
       "    .dataframe tbody tr th {\n",
       "        vertical-align: top;\n",
       "    }\n",
       "\n",
       "    .dataframe thead th {\n",
       "        text-align: right;\n",
       "    }\n",
       "</style>\n",
       "<table border=\"1\" class=\"dataframe\">\n",
       "  <thead>\n",
       "    <tr style=\"text-align: right;\">\n",
       "      <th></th>\n",
       "      <th>hourNumber</th>\n",
       "      <th>meanTweets</th>\n",
       "      <th>stdTweets</th>\n",
       "      <th>averagePlus</th>\n",
       "      <th>averageMinus</th>\n",
       "      <th>currentCount</th>\n",
       "      <th>forecast</th>\n",
       "      <th>forecastPlus</th>\n",
       "      <th>forecastMinus</th>\n",
       "    </tr>\n",
       "  </thead>\n",
       "  <tbody>\n",
       "    <tr>\n",
       "      <th>0</th>\n",
       "      <td>0</td>\n",
       "      <td>0.203125</td>\n",
       "      <td>0.591071</td>\n",
       "      <td>0.794196</td>\n",
       "      <td>-0.387946</td>\n",
       "      <td>1.0</td>\n",
       "      <td>1.0</td>\n",
       "      <td>1.0</td>\n",
       "      <td>1.0</td>\n",
       "    </tr>\n",
       "    <tr>\n",
       "      <th>1</th>\n",
       "      <td>1</td>\n",
       "      <td>0.375000</td>\n",
       "      <td>0.718070</td>\n",
       "      <td>1.093070</td>\n",
       "      <td>-0.343070</td>\n",
       "      <td>1.0</td>\n",
       "      <td>1.0</td>\n",
       "      <td>1.0</td>\n",
       "      <td>1.0</td>\n",
       "    </tr>\n",
       "    <tr>\n",
       "      <th>2</th>\n",
       "      <td>2</td>\n",
       "      <td>0.578125</td>\n",
       "      <td>0.862494</td>\n",
       "      <td>1.440619</td>\n",
       "      <td>-0.284369</td>\n",
       "      <td>1.0</td>\n",
       "      <td>1.0</td>\n",
       "      <td>1.0</td>\n",
       "      <td>1.0</td>\n",
       "    </tr>\n",
       "    <tr>\n",
       "      <th>3</th>\n",
       "      <td>3</td>\n",
       "      <td>0.953125</td>\n",
       "      <td>1.242851</td>\n",
       "      <td>2.195976</td>\n",
       "      <td>-0.289726</td>\n",
       "      <td>1.0</td>\n",
       "      <td>1.0</td>\n",
       "      <td>1.0</td>\n",
       "      <td>1.0</td>\n",
       "    </tr>\n",
       "    <tr>\n",
       "      <th>4</th>\n",
       "      <td>4</td>\n",
       "      <td>1.218750</td>\n",
       "      <td>1.292632</td>\n",
       "      <td>2.511382</td>\n",
       "      <td>-0.073882</td>\n",
       "      <td>1.0</td>\n",
       "      <td>1.0</td>\n",
       "      <td>1.0</td>\n",
       "      <td>1.0</td>\n",
       "    </tr>\n",
       "  </tbody>\n",
       "</table>\n",
       "</div>"
      ],
      "text/plain": [
       "   hourNumber  meanTweets  stdTweets  averagePlus  averageMinus  currentCount  \\\n",
       "0           0    0.203125   0.591071     0.794196     -0.387946           1.0   \n",
       "1           1    0.375000   0.718070     1.093070     -0.343070           1.0   \n",
       "2           2    0.578125   0.862494     1.440619     -0.284369           1.0   \n",
       "3           3    0.953125   1.242851     2.195976     -0.289726           1.0   \n",
       "4           4    1.218750   1.292632     2.511382     -0.073882           1.0   \n",
       "\n",
       "   forecast  forecastPlus  forecastMinus  \n",
       "0       1.0           1.0            1.0  \n",
       "1       1.0           1.0            1.0  \n",
       "2       1.0           1.0            1.0  \n",
       "3       1.0           1.0            1.0  \n",
       "4       1.0           1.0            1.0  "
      ]
     },
     "execution_count": 43,
     "metadata": {},
     "output_type": "execute_result"
    }
   ],
   "source": [
    "plotdf.head()"
   ]
  },
  {
   "cell_type": "code",
   "execution_count": 44,
   "metadata": {
    "collapsed": true
   },
   "outputs": [],
   "source": [
    "import plotly\n",
    "import plotly.plotly as py\n",
    "import plotly.graph_objs as go\n",
    "plotly.tools.set_credentials_file(username='bhines239', api_key='fKAY4BXT5CHgakY2KB1Z')"
   ]
  },
  {
   "cell_type": "code",
   "execution_count": 45,
   "metadata": {
    "collapsed": false
   },
   "outputs": [
    {
     "data": {
      "text/html": [
       "<iframe id=\"igraph\" scrolling=\"no\" style=\"border:none;\" seamless=\"seamless\" src=\"https://plot.ly/~bhines239/2.embed\" height=\"525px\" width=\"100%\"></iframe>"
      ],
      "text/plain": [
       "<plotly.tools.PlotlyDisplay object>"
      ]
     },
     "execution_count": 45,
     "metadata": {},
     "output_type": "execute_result"
    }
   ],
   "source": [
    "upper_bound = go.Scatter(\n",
    "    name='Upper Bound',\n",
    "    x=plotdf['hourNumber'],\n",
    "    y=plotdf['averagePlus'],\n",
    "    mode='lines',\n",
    "    marker=dict(color=\"444\"),\n",
    "    line=dict(width=0),\n",
    "    fillcolor='rgba(68, 68, 68, 0.3)',\n",
    "    fill='tonexty')\n",
    "\n",
    "average = go.Scatter(\n",
    "    name='Average',\n",
    "    x=plotdf['hourNumber'],\n",
    "    y=plotdf['meanTweets'],\n",
    "    mode='lines',\n",
    "    line = dict(\n",
    "        color = ('rgb(31, 119, 180)'),\n",
    "        width = 2,\n",
    "        dash = 'dash'),\n",
    "    fillcolor='rgba(68, 68, 68, 0.3)',\n",
    "    fill='tonexty')\n",
    "\n",
    "lower_bound = go.Scatter(\n",
    "    name='Lower Bound',\n",
    "    x=plotdf['hourNumber'],\n",
    "    y=plotdf['averageMinus'],\n",
    "    marker=dict(color=\"444\"),\n",
    "    line=dict(width=0),\n",
    "    mode='lines')\n",
    "\n",
    "current = go.Scatter(\n",
    "    name='Current Count',\n",
    "    x = plotdf['hourNumber'],\n",
    "    y = plotdf['currentCount'],\n",
    "    mode='lines',\n",
    "    line = dict(\n",
    "        color = ('rgb(0, 0, 0)'),\n",
    "        width = 2))\n",
    "\n",
    "data = [lower_bound, average, upper_bound, current]\n",
    "\n",
    "layout = go.Layout(\n",
    "    yaxis=dict(title='Number of Tweets'),\n",
    "    xaxis=dict(title='Hour Number'),\n",
    "    title='Current Tweet Count over Average Tweet Pace',\n",
    "    showlegend = False)\n",
    "\n",
    "fig = go.Figure(data=data, layout=layout)\n",
    "py.iplot(fig, filename='styled-line')"
   ]
  },
  {
   "cell_type": "code",
   "execution_count": 46,
   "metadata": {
    "collapsed": false
   },
   "outputs": [
    {
     "data": {
      "text/html": [
       "<iframe id=\"igraph\" scrolling=\"no\" style=\"border:none;\" seamless=\"seamless\" src=\"https://plot.ly/~bhines239/2.embed\" height=\"525px\" width=\"100%\"></iframe>"
      ],
      "text/plain": [
       "<plotly.tools.PlotlyDisplay object>"
      ]
     },
     "execution_count": 46,
     "metadata": {},
     "output_type": "execute_result"
    }
   ],
   "source": [
    "upper_bound = go.Scatter(\n",
    "    name='Upper Bound',\n",
    "    x=plotdf['hourNumber'],\n",
    "    y=plotdf['forecastPlus'],\n",
    "    mode='lines',\n",
    "    marker=dict(color=\"444\"),\n",
    "    line=dict(width=0),\n",
    "    fillcolor='rgba(68, 68, 68, 0.3)',\n",
    "    fill='tonexty')\n",
    "\n",
    "trace = go.Scatter(\n",
    "    name='Forecast',\n",
    "    x=plotdf['hourNumber'],\n",
    "    y=plotdf['forecast'],\n",
    "    mode='lines',\n",
    "    line = dict(\n",
    "        color = ('rgb(31, 119, 180)'),\n",
    "        width = 2,\n",
    "        dash = 'dash'),\n",
    "    fillcolor='rgba(68, 68, 68, 0.3)',\n",
    "    fill='tonexty')\n",
    "\n",
    "lower_bound = go.Scatter(\n",
    "    name='Lower Bound',\n",
    "    x=plotdf['hourNumber'],\n",
    "    y=plotdf['forecastMinus'],\n",
    "    marker=dict(color=\"444\"),\n",
    "    line=dict(width=0),\n",
    "    mode='lines')\n",
    "\n",
    "current = go.Scatter(\n",
    "    name='Current Count',\n",
    "    x = plotdf['hourNumber'],\n",
    "    y = plotdf['currentCount'],\n",
    "    mode='lines',\n",
    "    line = dict(\n",
    "        color = ('rgb(0, 0, 0)'),\n",
    "        width = 2))\n",
    "\n",
    "\n",
    "data = [lower_bound, trace, upper_bound, current]\n",
    "\n",
    "layout = go.Layout(\n",
    "    yaxis=dict(title='Number of Tweets'),\n",
    "    xaxis=dict(title='Hour Number'),\n",
    "    title='Current Tweet Count With Average Remaining Pace',\n",
    "    showlegend = False)\n",
    "\n",
    "fig = go.Figure(data=data, layout=layout)\n",
    "py.iplot(fig, filename='styled-line')"
   ]
  },
  {
   "cell_type": "code",
   "execution_count": null,
   "metadata": {
    "collapsed": true
   },
   "outputs": [],
   "source": []
  }
 ],
 "metadata": {
  "kernelspec": {
   "display_name": "Python 2",
   "language": "python",
   "name": "python2"
  },
  "language_info": {
   "codemirror_mode": {
    "name": "ipython",
    "version": 2
   },
   "file_extension": ".py",
   "mimetype": "text/x-python",
   "name": "python",
   "nbconvert_exporter": "python",
   "pygments_lexer": "ipython2",
   "version": "2.7.13"
  }
 },
 "nbformat": 4,
 "nbformat_minor": 2
}
